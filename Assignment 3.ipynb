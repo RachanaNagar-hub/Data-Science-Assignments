{
 "cells": [
  {
   "cell_type": "markdown",
   "id": "d8635a4b-4c6d-4b78-ab1c-d9c49bcdcb45",
   "metadata": {},
   "source": [
    "# Estimation And Confidence Intervals"
   ]
  },
  {
   "cell_type": "markdown",
   "id": "73a913ed-faf1-4d75-aa43-91521a2d9d5b",
   "metadata": {},
   "source": [
    "Background:\n",
    "\n",
    "In quality control processes, especially when dealing with high-value items, destructive sampling is a necessary but costly method to ensure product quality. The test to determine whether an item meets the quality standards destroys the item, leading to the requirement of small sample sizes due to cost constraints.\n",
    "\n",
    "Scenario:\n",
    "\n",
    "A manufacturer of print-heads for personal computers is interested in estimating the mean durability of their print-heads in terms of the number of characters printed before failure. To assess this, the manufacturer conducts a study on a small sample of print-heads due to the destructive nature of the testing process.\n",
    "\n",
    "Data:\n",
    "\n",
    "A total of 15 print-heads were randomly selected and tested until failure. The durability of each print-head (in millions of characters) was recorded as follows:\n",
    "1.13, 1.55, 1.43, 0.92, 1.25, 1.36, 1.32, 0.85, 1.07, 1.48, 1.20, 1.33, 1.18, 1.22, 1.29\n",
    "\n",
    "Assignment Tasks:\n",
    "\n",
    "a. Build 99% Confidence Interval Using Sample Standard Deviation\n",
    "Assuming the sample is representative of the population, construct a 99% confidence interval for the mean number of characters printed before the print-head fails using the sample standard deviation. Explain the steps you take and the rationale behind using the t-distribution for this task.\n",
    "\n",
    "b. Build 99% Confidence Interval Using Known Population Standard Deviation\n",
    "If it were known that the population standard deviation is 0.2 million characters, construct a 99% confidence interval for the mean number of characters printed before failure.\n",
    "\n"
   ]
  },
  {
   "cell_type": "code",
   "execution_count": 1,
   "id": "a3e08686-4430-431b-bd96-579669954e99",
   "metadata": {},
   "outputs": [],
   "source": [
    "import numpy as np\n",
    "import scipy.stats as stats"
   ]
  },
  {
   "cell_type": "code",
   "execution_count": 3,
   "id": "11348efb-a5d6-49c2-9ac2-f6d4d104f019",
   "metadata": {},
   "outputs": [
    {
     "data": {
      "text/plain": [
       "array([1.13, 1.55, 1.43, 0.92, 1.25, 1.36, 1.32, 0.85, 1.07, 1.48, 1.2 ,\n",
       "       1.33, 1.18, 1.22, 1.29])"
      ]
     },
     "execution_count": 3,
     "metadata": {},
     "output_type": "execute_result"
    }
   ],
   "source": [
    "# Durability data\n",
    "data = np.array([1.13, 1.55, 1.43, 0.92, 1.25, 1.36, 1.32, 0.85, 1.07, 1.48, 1.20, 1.33, 1.18, 1.22, 1.29])\n",
    "data"
   ]
  },
  {
   "cell_type": "code",
   "execution_count": 7,
   "id": "00a33624-52e3-4be1-8394-ceb4b3f94555",
   "metadata": {},
   "outputs": [
    {
     "data": {
      "text/plain": [
       "15"
      ]
     },
     "execution_count": 7,
     "metadata": {},
     "output_type": "execute_result"
    }
   ],
   "source": [
    "# sample size\n",
    "n = len(data)\n",
    "n"
   ]
  },
  {
   "cell_type": "code",
   "execution_count": 9,
   "id": "288a2861-fdde-419d-9252-97bcbc6aa619",
   "metadata": {},
   "outputs": [
    {
     "data": {
      "text/plain": [
       "1.2386666666666666"
      ]
     },
     "execution_count": 9,
     "metadata": {},
     "output_type": "execute_result"
    }
   ],
   "source": [
    "# sample mean\n",
    "sample_mean = np.mean(data)\n",
    "sample_mean"
   ]
  },
  {
   "cell_type": "code",
   "execution_count": 11,
   "id": "c4bbd303-7cdc-4951-8358-f54d151408dc",
   "metadata": {},
   "outputs": [
    {
     "data": {
      "text/plain": [
       "0.19316412956959936"
      ]
     },
     "execution_count": 11,
     "metadata": {},
     "output_type": "execute_result"
    }
   ],
   "source": [
    "# Sample standard deviation\n",
    "sample_std_dev = np.std(data, ddof=1) # ddof=1 for sample standard deviaton\n",
    "sample_std_dev"
   ]
  },
  {
   "cell_type": "markdown",
   "id": "7e792b3a-c115-4421-b35b-5c061b95b0fd",
   "metadata": {},
   "source": [
    "### Task A\n",
    "##### 99% Confidence Interval Using Sample Standard Deviation"
   ]
  },
  {
   "cell_type": "code",
   "execution_count": 14,
   "id": "dc9fd5f0-ea8b-4522-b391-581c9d3df7f6",
   "metadata": {},
   "outputs": [
    {
     "data": {
      "text/plain": [
       "2.97684273411266"
      ]
     },
     "execution_count": 14,
     "metadata": {},
     "output_type": "execute_result"
    }
   ],
   "source": [
    "alpha = 0.01    # significance level for 99% confidence\n",
    "t_critical = stats.t.ppf(1 - alpha / 2, df=n - 1)  # two-tailed\n",
    "t_critical"
   ]
  },
  {
   "cell_type": "code",
   "execution_count": 16,
   "id": "16390b69-b6f3-4dba-ac0d-d02e2a29b8d6",
   "metadata": {},
   "outputs": [
    {
     "data": {
      "text/plain": [
       "0.04987476379384733"
      ]
     },
     "execution_count": 16,
     "metadata": {},
     "output_type": "execute_result"
    }
   ],
   "source": [
    "# Standard Error (SE)\n",
    "SE_sample = sample_std_dev / np.sqrt(n)\n",
    "SE_sample"
   ]
  },
  {
   "cell_type": "code",
   "execution_count": 18,
   "id": "8374662c-9e01-4299-bac1-574cf0f2fd9a",
   "metadata": {},
   "outputs": [
    {
     "data": {
      "text/plain": [
       "(1.090197338451367, 1.3871359948819662)"
      ]
     },
     "execution_count": 18,
     "metadata": {},
     "output_type": "execute_result"
    }
   ],
   "source": [
    "# Confidence Interval\n",
    "CI_sample = (sample_mean - t_critical * SE_sample, sample_mean + t_critical * SE_sample)\n",
    "CI_sample"
   ]
  },
  {
   "cell_type": "markdown",
   "id": "0b1fb631-9807-4acd-b6a6-9f3f311b1675",
   "metadata": {},
   "source": [
    "### Task B\n",
    "##### 99% Confidence Interval Using Known Population Standard Deviation"
   ]
  },
  {
   "cell_type": "code",
   "execution_count": 21,
   "id": "c5c93af5-134f-48be-8ee0-c4a40ac39b06",
   "metadata": {},
   "outputs": [],
   "source": [
    "sigma = 0.2  # population standard deviation"
   ]
  },
  {
   "cell_type": "code",
   "execution_count": 23,
   "id": "ed7ad89b-3620-482d-80f5-0db8850d4822",
   "metadata": {},
   "outputs": [
    {
     "data": {
      "text/plain": [
       "0.051639777949432225"
      ]
     },
     "execution_count": 23,
     "metadata": {},
     "output_type": "execute_result"
    }
   ],
   "source": [
    "# Standard Error (SE) with known population std deviation\n",
    "SE_population = sigma / np.sqrt(n)\n",
    "SE_population"
   ]
  },
  {
   "cell_type": "code",
   "execution_count": 25,
   "id": "a827d6d7-8d29-46b3-a131-67eef9fed8f8",
   "metadata": {},
   "outputs": [
    {
     "data": {
      "text/plain": [
       "2.5758293035489004"
      ]
     },
     "execution_count": 25,
     "metadata": {},
     "output_type": "execute_result"
    }
   ],
   "source": [
    "# Critical value for z\n",
    "z_critical = stats.norm.ppf(1 - alpha / 2)\n",
    "z_critical"
   ]
  },
  {
   "cell_type": "code",
   "execution_count": 27,
   "id": "23433d07-7757-4db9-95b1-1de1a7386fda",
   "metadata": {},
   "outputs": [
    {
     "data": {
      "text/plain": [
       "(1.1056514133957607, 1.3716819199375725)"
      ]
     },
     "execution_count": 27,
     "metadata": {},
     "output_type": "execute_result"
    }
   ],
   "source": [
    "# Confidence Interval\n",
    "CI_population = (sample_mean - z_critical * SE_population, sample_mean + z_critical * SE_population)\n",
    "CI_population"
   ]
  },
  {
   "cell_type": "code",
   "execution_count": 29,
   "id": "daa20ef7-276e-4374-90e4-ccc3e3c806af",
   "metadata": {},
   "outputs": [
    {
     "data": {
      "text/plain": [
       "((1.090197338451367, 1.3871359948819662),\n",
       " (1.1056514133957607, 1.3716819199375725))"
      ]
     },
     "execution_count": 29,
     "metadata": {},
     "output_type": "execute_result"
    }
   ],
   "source": [
    "# Output results\n",
    "CI_sample, CI_population"
   ]
  },
  {
   "cell_type": "markdown",
   "id": "4f35901a-5ee2-4059-8409-9503b1bd5452",
   "metadata": {},
   "source": [
    "#### Result Interpretation"
   ]
  },
  {
   "cell_type": "code",
   "execution_count": 32,
   "id": "2cb6182a-d14c-4e55-8e5c-8cfb5d9e0c1e",
   "metadata": {},
   "outputs": [],
   "source": [
    "# The output will give you the 99% confidence intervals for both cases (using sample standard deviation and known population standard deviation).\n",
    "# You can interpret these intervals as the range in which you can be 99% confident that the true mean durability of the print-heads lies."
   ]
  },
  {
   "cell_type": "code",
   "execution_count": null,
   "id": "6b66e2c9-2014-445b-90b5-2114072a7690",
   "metadata": {},
   "outputs": [],
   "source": []
  }
 ],
 "metadata": {
  "kernelspec": {
   "display_name": "Python 3 (ipykernel)",
   "language": "python",
   "name": "python3"
  },
  "language_info": {
   "codemirror_mode": {
    "name": "ipython",
    "version": 3
   },
   "file_extension": ".py",
   "mimetype": "text/x-python",
   "name": "python",
   "nbconvert_exporter": "python",
   "pygments_lexer": "ipython3",
   "version": "3.11.7"
  }
 },
 "nbformat": 4,
 "nbformat_minor": 5
}
