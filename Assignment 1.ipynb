{
 "cells": [
  {
   "cell_type": "markdown",
   "id": "3514a70a-f574-4b38-8ba5-33759088993b",
   "metadata": {},
   "source": [
    "# Assignment 1 : Basics of python"
   ]
  },
  {
   "cell_type": "markdown",
   "id": "22d47c7b-8807-4b9c-9132-acced8eed62a",
   "metadata": {},
   "source": [
    "## Exercise 1: Prime Numbers"
   ]
  },
  {
   "cell_type": "markdown",
   "id": "e8c4a3f1-7174-4c79-8ee8-49f99041a5df",
   "metadata": {},
   "source": [
    "##### Write a python program that checks whether a given number is prime or not  "
   ]
  },
  {
   "cell_type": "code",
   "execution_count": 7,
   "id": "73ca73d3-09ab-4acc-a5f4-a616ffe1375f",
   "metadata": {},
   "outputs": [],
   "source": [
    "# A prime number is a natural number greater than 1 that has no positive divisors other than 1 and itself."
   ]
  },
  {
   "cell_type": "code",
   "execution_count": 11,
   "id": "7cdc1f01-f5f9-487d-92d2-08eb50b5a768",
   "metadata": {},
   "outputs": [],
   "source": [
    "def prime(x):\n",
    "    if x<=1:\n",
    "        return 'not a prime'\n",
    "    elif x==2:\n",
    "        return 'prime'\n",
    "    elif x%2==0 or x%2==1:\n",
    "        for i in range(2,x):\n",
    "            if x%i==0:\n",
    "                return 'not a prime'\n",
    "        return 'prime'\n",
    "    return 'not a prime'"
   ]
  },
  {
   "cell_type": "code",
   "execution_count": 19,
   "id": "d1e113d4-c8f6-4543-885a-3856f5368ae7",
   "metadata": {},
   "outputs": [
    {
     "data": {
      "text/plain": [
       "'prime'"
      ]
     },
     "execution_count": 19,
     "metadata": {},
     "output_type": "execute_result"
    }
   ],
   "source": [
    "# Let's check with some numbers \n",
    "prime(23)"
   ]
  },
  {
   "cell_type": "code",
   "execution_count": 15,
   "id": "b6bae84b-386b-4701-a6dd-23036c29c153",
   "metadata": {},
   "outputs": [
    {
     "data": {
      "text/plain": [
       "'not a prime'"
      ]
     },
     "execution_count": 15,
     "metadata": {},
     "output_type": "execute_result"
    }
   ],
   "source": [
    "prime(6)"
   ]
  },
  {
   "cell_type": "code",
   "execution_count": 17,
   "id": "e0113e90-454d-4540-96f9-069677a503cb",
   "metadata": {},
   "outputs": [
    {
     "data": {
      "text/plain": [
       "'prime'"
      ]
     },
     "execution_count": 17,
     "metadata": {},
     "output_type": "execute_result"
    }
   ],
   "source": [
    "prime(11)"
   ]
  },
  {
   "cell_type": "code",
   "execution_count": 21,
   "id": "e3132677-03fc-472a-a835-713ec3a6c4b5",
   "metadata": {},
   "outputs": [
    {
     "data": {
      "text/plain": [
       "'not a prime'"
      ]
     },
     "execution_count": 21,
     "metadata": {},
     "output_type": "execute_result"
    }
   ],
   "source": [
    "prime(-8)"
   ]
  },
  {
   "cell_type": "code",
   "execution_count": 23,
   "id": "5a3b17c2-332d-49b4-9603-dc72441508dc",
   "metadata": {},
   "outputs": [],
   "source": [
    "# That is how we can check whether a number is prime or not"
   ]
  },
  {
   "cell_type": "markdown",
   "id": "33adc6c9-e6c6-45c5-9a2d-65f5d209e6d7",
   "metadata": {},
   "source": [
    "## Exercise 2: Product of Random Numbers"
   ]
  },
  {
   "cell_type": "markdown",
   "id": "e248a64e-d740-4727-aee2-a5d5154c69b5",
   "metadata": {},
   "source": [
    "##### Develop a Python program that generates two random numbers and asks the user to enter the product of these numbers. The program should check if the answer is correct and display an appropriate message."
   ]
  },
  {
   "cell_type": "code",
   "execution_count": 29,
   "id": "ab794a96-2d4d-4893-ab56-dcbd4746e528",
   "metadata": {},
   "outputs": [],
   "source": [
    "import random\n",
    "import math"
   ]
  },
  {
   "cell_type": "code",
   "execution_count": 33,
   "id": "7b95fed5-54c9-4270-a437-e412157af797",
   "metadata": {},
   "outputs": [],
   "source": [
    "# Generate a list of random numbers"
   ]
  },
  {
   "cell_type": "code",
   "execution_count": 35,
   "id": "1855fcfe-2f7a-4414-a67a-4bd62c486d3d",
   "metadata": {},
   "outputs": [],
   "source": [
    "random_numbers=[random.randint(1,9) for _ in range(6)]  # means 6 random numbers between 1 and 9"
   ]
  },
  {
   "cell_type": "code",
   "execution_count": 37,
   "id": "c6fc9129-59d5-4c37-a215-19395e15cd1a",
   "metadata": {},
   "outputs": [],
   "source": [
    "# Now finding out the Product of the random numbers"
   ]
  },
  {
   "cell_type": "code",
   "execution_count": 39,
   "id": "3cbc2035-8e98-4f37-a29a-af8e7059354e",
   "metadata": {},
   "outputs": [],
   "source": [
    "product= math.prod(random_numbers)"
   ]
  },
  {
   "cell_type": "code",
   "execution_count": 41,
   "id": "be33fa1c-7a55-4572-8c9b-062db3f3367b",
   "metadata": {},
   "outputs": [],
   "source": [
    "# Output/display of product"
   ]
  },
  {
   "cell_type": "code",
   "execution_count": 43,
   "id": "5cb05d73-1380-4902-897d-033549ded190",
   "metadata": {},
   "outputs": [
    {
     "name": "stdout",
     "output_type": "stream",
     "text": [
      "Random Numbers: [9, 1, 2, 1, 4, 3]\n",
      "Product: 216\n"
     ]
    }
   ],
   "source": [
    "print(\"Random Numbers:\", random_numbers)\n",
    "print(\"Product:\",product)"
   ]
  },
  {
   "cell_type": "code",
   "execution_count": 45,
   "id": "d468c5b5-74b1-4cda-b22a-5d5423a448f1",
   "metadata": {},
   "outputs": [],
   "source": [
    "### One more way to find out product of random numbers"
   ]
  },
  {
   "cell_type": "code",
   "execution_count": 47,
   "id": "852dea01-f405-40a3-a97c-e456fef7ab68",
   "metadata": {},
   "outputs": [],
   "source": [
    "product= 1\n",
    "for num in random_numbers:\n",
    "    product *= num"
   ]
  },
  {
   "cell_type": "code",
   "execution_count": 49,
   "id": "f981f9ac-bb5a-42eb-a3c7-619b2d990dc6",
   "metadata": {},
   "outputs": [
    {
     "name": "stdout",
     "output_type": "stream",
     "text": [
      "Random Numbers: [9, 1, 2, 1, 4, 3]\n",
      "Product: 216\n"
     ]
    }
   ],
   "source": [
    "print(\"Random Numbers:\", random_numbers)\n",
    "print(\"Product:\",product)"
   ]
  },
  {
   "cell_type": "markdown",
   "id": "be316cf4-ea55-40e2-b600-f8ab6f593eb9",
   "metadata": {},
   "source": [
    "## Exercise 3: Square of Even/Odd Numbers"
   ]
  },
  {
   "cell_type": "markdown",
   "id": "fde745cf-6afc-466f-b7f0-56ae95dcf888",
   "metadata": {},
   "source": [
    "##### Create a Python script that prints the square of all even or odd numbers within the range of 100 to 200. Choose either even or odd numbers and document your choice in the code.  "
   ]
  },
  {
   "cell_type": "code",
   "execution_count": 107,
   "id": "5dd6c239-25db-4a67-bdb9-d7a0143c60f4",
   "metadata": {},
   "outputs": [],
   "source": [
    "### Python script to print the squares of all even numbers between 100 and 200. I am choosing even numbers for this one and take an example as discussed below"
   ]
  },
  {
   "cell_type": "code",
   "execution_count": 58,
   "id": "291d3c48-cb44-4b52-bec7-0ba500684925",
   "metadata": {},
   "outputs": [],
   "source": [
    "# choosing even numbers for this example.\n",
    "# because even numbers are divisible by 2, and squaring them gives another even number, which is useful in mathematical contexts like grid computations.\n",
    "# looping through the range 100 to 200 and selecting even even numbers"
   ]
  },
  {
   "cell_type": "code",
   "execution_count": 68,
   "id": "cbd744c2-19ad-42ca-afab-74e1fdd653d0",
   "metadata": {},
   "outputs": [
    {
     "name": "stdout",
     "output_type": "stream",
     "text": [
      "Number: 100, Square: 10000\n",
      "Number: 102, Square: 10404\n",
      "Number: 104, Square: 10816\n",
      "Number: 106, Square: 11236\n",
      "Number: 108, Square: 11664\n",
      "Number: 110, Square: 12100\n",
      "Number: 112, Square: 12544\n",
      "Number: 114, Square: 12996\n",
      "Number: 116, Square: 13456\n",
      "Number: 118, Square: 13924\n",
      "Number: 120, Square: 14400\n",
      "Number: 122, Square: 14884\n",
      "Number: 124, Square: 15376\n",
      "Number: 126, Square: 15876\n",
      "Number: 128, Square: 16384\n",
      "Number: 130, Square: 16900\n",
      "Number: 132, Square: 17424\n",
      "Number: 134, Square: 17956\n",
      "Number: 136, Square: 18496\n",
      "Number: 138, Square: 19044\n",
      "Number: 140, Square: 19600\n",
      "Number: 142, Square: 20164\n",
      "Number: 144, Square: 20736\n",
      "Number: 146, Square: 21316\n",
      "Number: 148, Square: 21904\n",
      "Number: 150, Square: 22500\n",
      "Number: 152, Square: 23104\n",
      "Number: 154, Square: 23716\n",
      "Number: 156, Square: 24336\n",
      "Number: 158, Square: 24964\n",
      "Number: 160, Square: 25600\n",
      "Number: 162, Square: 26244\n",
      "Number: 164, Square: 26896\n",
      "Number: 166, Square: 27556\n",
      "Number: 168, Square: 28224\n",
      "Number: 170, Square: 28900\n",
      "Number: 172, Square: 29584\n",
      "Number: 174, Square: 30276\n",
      "Number: 176, Square: 30976\n",
      "Number: 178, Square: 31684\n",
      "Number: 180, Square: 32400\n",
      "Number: 182, Square: 33124\n",
      "Number: 184, Square: 33856\n",
      "Number: 186, Square: 34596\n",
      "Number: 188, Square: 35344\n",
      "Number: 190, Square: 36100\n",
      "Number: 192, Square: 36864\n",
      "Number: 194, Square: 37636\n",
      "Number: 196, Square: 38416\n",
      "Number: 198, Square: 39204\n",
      "Number: 200, Square: 40000\n"
     ]
    }
   ],
   "source": [
    "# we will do like this\n",
    "for number in range(100,201):    # we took 201 because range upper limit is exclusive\n",
    "    if number % 2 == 0:          # now we will check if the number is even \n",
    "        square = number **2\n",
    "        print(f\"Number: {number}, Square: {square}\")"
   ]
  },
  {
   "cell_type": "code",
   "execution_count": 109,
   "id": "9970b824-a205-49d2-9408-1a2dc3704535",
   "metadata": {},
   "outputs": [],
   "source": [
    "# This script works on the numbers between 100 and 200 and checks if the number is even using the (%) operator and executes it by print command"
   ]
  },
  {
   "cell_type": "markdown",
   "id": "b00388d4-1092-49bd-b868-7224c772512e",
   "metadata": {},
   "source": [
    "## Exercise 4: Word counter"
   ]
  },
  {
   "cell_type": "markdown",
   "id": "0062f639-e6ff-46aa-bcfc-1e6eb356e08c",
   "metadata": {},
   "source": [
    "##### Write a program to count the number of words in a given text. Example: input_text= \"This text will be used to demonstrate the word counter.\"\n",
    "##### Expected output: 'This':2 , 'is':1, 'a':1, 'sample':1, 'text.':1\n"
   ]
  },
  {
   "cell_type": "code",
   "execution_count": 105,
   "id": "2245847b-49ca-4409-8c34-776230f3a52b",
   "metadata": {},
   "outputs": [],
   "source": [
    "# Here is a python program that counts the number of occurrences of each word in a text/given text"
   ]
  },
  {
   "cell_type": "code",
   "execution_count": 77,
   "id": "9b3b5670-4bd2-4163-996a-2349488c043f",
   "metadata": {},
   "outputs": [],
   "source": [
    "from collections import Counter"
   ]
  },
  {
   "cell_type": "code",
   "execution_count": 93,
   "id": "76baf5eb-eddf-4844-9d23-99522efdfc81",
   "metadata": {},
   "outputs": [],
   "source": [
    "# Take sample input text\n",
    "input_text = \"My name is Rachana Nagar. I love myself\"\n",
    "\n",
    "# Now convert the text to lowercase to make counting case-sensitive and split the text into individual words.\n",
    "words = input_text.lower().split()"
   ]
  },
  {
   "cell_type": "code",
   "execution_count": 95,
   "id": "d17a2596-d333-4f00-9d51-dfe7f86a9ce1",
   "metadata": {},
   "outputs": [],
   "source": [
    "word_count = Counter(words)   # use counter from the collections module to count the occurrences of each word"
   ]
  },
  {
   "cell_type": "code",
   "execution_count": 97,
   "id": "7f0a240c-e4b8-4281-8201-2c51e7426e76",
   "metadata": {},
   "outputs": [
    {
     "name": "stdout",
     "output_type": "stream",
     "text": [
      "'my': 1\n",
      "'name': 1\n",
      "'is': 1\n",
      "'rachana': 1\n",
      "'nagar.': 1\n",
      "'i': 1\n",
      "'love': 1\n",
      "'myself': 1\n"
     ]
    }
   ],
   "source": [
    "for word, count in word_count.items():\n",
    "    print(f\"'{word}': {count}\")"
   ]
  },
  {
   "cell_type": "code",
   "execution_count": 103,
   "id": "15425e13-a1b8-4978-93d8-4df35f8a61b4",
   "metadata": {},
   "outputs": [],
   "source": [
    "# input_text.lower() converts the text to lowercase, making the word counting case-insensitive.\n",
    "# split() it breaks the string into words by spaces.\n",
    "# Counter() counts the occurrence of each word and stores them in a dictonary-like object"
   ]
  },
  {
   "cell_type": "markdown",
   "id": "983c1dd7-04d5-43b9-8680-c4b6c8703da3",
   "metadata": {},
   "source": [
    "## Exercise 5: Ckeck for Palindrome"
   ]
  },
  {
   "cell_type": "markdown",
   "id": "66626f9b-d1e4-4bd0-ac02-6fbd9fad165b",
   "metadata": {},
   "source": [
    "##### Write a Python function called is_pallindrome that takes a string as input and returns True if the string is a palindrome, and False otherwise. A palindrome is a word, phrase, number, or other sequence of character that reads the same forward and backward,ignoring spaces,punctuation, and capitalization.\n",
    "##### Example: Input:\"racecar\"\n",
    "#####                 Expected Output: True"
   ]
  },
  {
   "cell_type": "code",
   "execution_count": 111,
   "id": "c7a7f7fc-74dd-4e4f-a510-65e7ccf6c6b4",
   "metadata": {},
   "outputs": [],
   "source": [
    "# Here's a Python function called is_palindrome that checks if a given string is a palindrome, while ignoring spaces,punctuation, and capitalization:"
   ]
  },
  {
   "cell_type": "code",
   "execution_count": 115,
   "id": "e1822f6c-e403-4a08-a536-49b455b5da9f",
   "metadata": {},
   "outputs": [],
   "source": [
    "# First we need to import a library re\n",
    "import re"
   ]
  },
  {
   "cell_type": "code",
   "execution_count": 117,
   "id": "1739b4f9-1dc1-4ec6-8d27-bdfe06fe92e1",
   "metadata": {},
   "outputs": [],
   "source": [
    "def is_palindrome(s):\n",
    "    cleaned_str = re.sub(r'[^A-Za-z0-9]', '', s.lower())   #remove non-alphanumeric characters and convert it to lowercase\n",
    "    return cleaned_str == cleaned_str[::-1]                #check if the cleaned string is equal to its reverse"
   ]
  },
  {
   "cell_type": "code",
   "execution_count": 119,
   "id": "f8002b02-35b9-4210-91d2-246f07c877fa",
   "metadata": {},
   "outputs": [
    {
     "name": "stdout",
     "output_type": "stream",
     "text": [
      "True\n"
     ]
    }
   ],
   "source": [
    "input_str = \"racecar\"     #we took given example to work on it\n",
    "print(is_palindrome(input_str))      #expected output: True"
   ]
  },
  {
   "cell_type": "code",
   "execution_count": null,
   "id": "b5696376-f35a-4c14-8ca8-72441e26f8dd",
   "metadata": {},
   "outputs": [],
   "source": []
  }
 ],
 "metadata": {
  "kernelspec": {
   "display_name": "Python 3 (ipykernel)",
   "language": "python",
   "name": "python3"
  },
  "language_info": {
   "codemirror_mode": {
    "name": "ipython",
    "version": 3
   },
   "file_extension": ".py",
   "mimetype": "text/x-python",
   "name": "python",
   "nbconvert_exporter": "python",
   "pygments_lexer": "ipython3",
   "version": "3.11.7"
  }
 },
 "nbformat": 4,
 "nbformat_minor": 5
}
