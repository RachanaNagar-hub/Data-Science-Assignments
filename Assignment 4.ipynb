{
 "cells": [
  {
   "cell_type": "markdown",
   "id": "bf53e34a-c144-4338-8edc-e43f3b0e5273",
   "metadata": {},
   "source": [
    "# Hypothesis Testing"
   ]
  },
  {
   "cell_type": "markdown",
   "id": "5a24c5ac-ec43-4bfc-8cb7-1a4157c3b39a",
   "metadata": {},
   "source": [
    "\n",
    "Background:\r\n",
    "Bombay hospitality Ltd. operates a franchise model for producing exotic Norwegian dinners throughout New England. The operating cost for a franchise in a week (W) is given by the equation W = $1,000 + $5X, where X represents the number of units produced in a week. Recent feedback from restaurant owners suggests that this cost model may no longer be accurate, as their observed weekly operating costs are higher.\r\n",
    "Objective:\r\n",
    "To investigate the restaurant owners' claim about the increase in weekly operating costs using hypothesis testing.\r\n",
    "Data Provided:\r\n",
    "•\tThe theoretical weekly operating cost model: W = $1,000 + $5X\r\n",
    "•\tSample of 25 restaurants with a mean weekly cost of Rs. 3,050\r\n",
    "•\tNumber of units produced in a week (X) follows a normal distribution with a mean (μ) of 600 units and a standard deviation (σ) of 25 units\r\n",
    "Assignment Tasks:\r\n",
    "1. State the Hypotheses statement:\r\n",
    "2. Calculate the Test Statistic:\r\n",
    "Use the following formula to calculate the test statistic (t):\r\n",
    "where:\r\n",
    "•\tˉxˉ = sample mean weekly cost (Rs. 3,050)\r\n",
    "•\tμ = theoretical mean weekly cost according to the cost model (W = $1,000 + $5X for X = 600 units)\r\n",
    "•\tσ = 5*25 units\r\n",
    "•\tn = sample size (25 restaurants)\r\n",
    "3. Determine the Critical Value:\r\n",
    "Using the alpha level of 5% (α = 0.05), determine the critical value from the standard normal (Z) distribution table.\r\n",
    "4. Make a Decision:\r\n",
    "Compare the test statistic with the critical value to decide whether to reject the null hypothesis.\r\n",
    "5. Conclusion:\r\n",
    "Based on the decision in step 4, conclude whether there is strong evidence to support the restaurant owners' claim that the weekly operating costs are higher than the model suggests.\r\n",
    "\r\n",
    "Submission Guidelines:\r\n",
    "•\tPrepare python file detailing each step of your hypothesis testing process.\r\n",
    "•\tInclude calculations for the test statistic and the critical value.\r\n",
    "•\tProvide a clear conclusion based on your analysis.\r\n",
    "\r\n"
   ]
  },
  {
   "cell_type": "code",
   "execution_count": 3,
   "id": "bc505b7b-ef2d-444e-99f1-66d6598613f9",
   "metadata": {},
   "outputs": [],
   "source": [
    "# First we have to import necessary libraries\n",
    "import numpy as np\n",
    "import scipy.stats as stats"
   ]
  },
  {
   "cell_type": "code",
   "execution_count": 4,
   "id": "cfd3231b-3aea-44e5-8461-8b82a2cf43f3",
   "metadata": {},
   "outputs": [],
   "source": [
    "#### STEP 1: Defining hypotheses\n",
    "# H0: mu = 4000\n",
    "# H1: mu > 4000"
   ]
  },
  {
   "cell_type": "code",
   "execution_count": 5,
   "id": "420f8e1a-b056-4dc3-9823-7c3588cdc4eb",
   "metadata": {},
   "outputs": [],
   "source": [
    "#### STEP 2: Calculating test stats\n",
    "# Sample mean (x)\n",
    "sample_mean = 3050"
   ]
  },
  {
   "cell_type": "code",
   "execution_count": 6,
   "id": "196df4e7-5aa0-4180-9f50-d6294eaf0a8d",
   "metadata": {},
   "outputs": [
    {
     "data": {
      "text/plain": [
       "3050"
      ]
     },
     "execution_count": 6,
     "metadata": {},
     "output_type": "execute_result"
    }
   ],
   "source": [
    "sample_mean"
   ]
  },
  {
   "cell_type": "code",
   "execution_count": 7,
   "id": "800332c3-8860-45c0-bce5-783ed4f16d87",
   "metadata": {},
   "outputs": [],
   "source": [
    "# Theoretical mean according to the model\n",
    "mu = 1000 + 5* 600        # theoretical mean cost\n",
    "# mu = 4000\n",
    "\n",
    "# Standard deviation \n",
    "sigma = 5 * 25            # cost per unit times the number of units\n",
    "# sample size (n)\n",
    "n = 25\n",
    "\n",
    "# Calculating test stats (t)\n",
    "test_statistic = (sample_mean - mu) / (sigma/np.sqrt(n))"
   ]
  },
  {
   "cell_type": "code",
   "execution_count": 8,
   "id": "ceb6fcd6-9938-41d1-aa8b-7969433f91b4",
   "metadata": {},
   "outputs": [
    {
     "data": {
      "text/plain": [
       "4000"
      ]
     },
     "execution_count": 8,
     "metadata": {},
     "output_type": "execute_result"
    }
   ],
   "source": [
    "mu"
   ]
  },
  {
   "cell_type": "code",
   "execution_count": 9,
   "id": "e239e1d0-8efb-4f60-b8b0-82a1fef9f532",
   "metadata": {},
   "outputs": [
    {
     "data": {
      "text/plain": [
       "125"
      ]
     },
     "execution_count": 9,
     "metadata": {},
     "output_type": "execute_result"
    }
   ],
   "source": [
    "sigma"
   ]
  },
  {
   "cell_type": "code",
   "execution_count": 10,
   "id": "76934ec8-8628-4bcd-843e-a2a0d97ffa58",
   "metadata": {},
   "outputs": [
    {
     "data": {
      "text/plain": [
       "-38.0"
      ]
     },
     "execution_count": 10,
     "metadata": {},
     "output_type": "execute_result"
    }
   ],
   "source": [
    "test_statistic"
   ]
  },
  {
   "cell_type": "code",
   "execution_count": 11,
   "id": "e42423f7-9000-4579-acbf-3fb41e5e5100",
   "metadata": {},
   "outputs": [],
   "source": [
    "#### STEP 3: Determine the critical value\n",
    "alpha = 0.05\n",
    "critical_value = stats.norm.ppf(1 - alpha)    # z aplha for one-tailed test"
   ]
  },
  {
   "cell_type": "code",
   "execution_count": 12,
   "id": "3656f0ea-4965-44ea-ad50-b9ae101d36e6",
   "metadata": {},
   "outputs": [
    {
     "data": {
      "text/plain": [
       "1.6448536269514722"
      ]
     },
     "execution_count": 12,
     "metadata": {},
     "output_type": "execute_result"
    }
   ],
   "source": [
    "critical_value"
   ]
  },
  {
   "cell_type": "code",
   "execution_count": 13,
   "id": "e72dbc2b-b543-4db3-9081-765680dca88b",
   "metadata": {},
   "outputs": [],
   "source": [
    "#### STEP 4: Make a decision\n",
    "if test_statistic < -critical_value:\n",
    "    decision = \"Reject the null hypothesis\"\n",
    "else:\n",
    "    decision = \"Fail to reject the null hypothesis\"\n"
   ]
  },
  {
   "cell_type": "code",
   "execution_count": 82,
   "id": "bd7401f9-a1d9-4dc6-8cbd-3eebdcc046c2",
   "metadata": {},
   "outputs": [
    {
     "data": {
      "text/plain": [
       "'Fail to reject the null hypothesis'"
      ]
     },
     "execution_count": 82,
     "metadata": {},
     "output_type": "execute_result"
    }
   ],
   "source": [
    "decision"
   ]
  },
  {
   "cell_type": "markdown",
   "id": "df2dbaee-cade-4896-a99e-e9bb7866b8a3",
   "metadata": {},
   "source": [
    "#### STEP 5: Conclusion\n",
    "if decision == \"Reject the null hypothesis\":\n",
    "    conclusion = \"There is strong evidence to support the claims that weekly operating costs are higher\"\n",
    "else:\n",
    "    conclusion = \"There is not enough evidence to support the claim that weekly operating costs are higher.\"\n",
    "\n",
    "#Output Results \n",
    "print(\"Test Statistics:\", test_statistic)\n",
    "print(\"Critical Value:\", critical_value)\n",
    "print(\"Decision:\", decision)\n",
    "print(\"Conclusion:\", conclusion)"
   ]
  },
  {
   "cell_type": "markdown",
   "id": "1f03083a-e18c-4fc2-b437-a3152e67e42f",
   "metadata": {},
   "source": [
    "#### Conclusion"
   ]
  },
  {
   "cell_type": "code",
   "execution_count": 90,
   "id": "fe874ef1-fedf-4f5f-a205-d126658c83a0",
   "metadata": {},
   "outputs": [],
   "source": [
    "#There is no evidence that weekly operating costs have increased. Instead, the data suggests that actual costs are lower than expected."
   ]
  },
  {
   "cell_type": "markdown",
   "id": "7cc34010-ea23-4e9e-9186-c1e735481c08",
   "metadata": {},
   "source": [
    "##### Interpretation of Results"
   ]
  },
  {
   "cell_type": "code",
   "execution_count": null,
   "id": "99c33e61-9eaf-44b4-ae11-a9f89994a9bf",
   "metadata": {},
   "outputs": [],
   "source": [
    "#The test statistic Z=−38 is extremely low, meaning the actual observed costs are much lower than expected. \n",
    "#The critical value is 1.645, and since −38 is far below this threshold, we fail to reject 𝐻0"
   ]
  },
  {
   "cell_type": "markdown",
   "id": "9e86bb3a-1e45-4349-b6a0-ebeb610c24d0",
   "metadata": {},
   "source": [
    "# Chi-Square Test"
   ]
  },
  {
   "cell_type": "markdown",
   "id": "6cf19182-a5e2-4efd-ae21-3e2192f4f5f3",
   "metadata": {},
   "source": [
    "Association between Device Type and Customer Satisfaction\n",
    "\n",
    "Background:\n",
    "Mizzare Corporation has collected data on customer satisfaction levels for two types of smart home devices: Smart Thermostats and Smart Lights. They want to determine if there's a significant association between the type of device purchased and the customer's satisfaction level.\n",
    "Data Provided:\n",
    "The data is summarized in a contingency table showing the counts of customers in each satisfaction level for both types of devices:\n",
    "Satisfaction\tSmart Thermostat\tSmart Light\tTotal\n",
    "Very Satisfied\t50\t70\t120\n",
    "Satisfied\t80\t100\t180\n",
    "Neutral\t60\t90\t150\n",
    "Unsatisfied\t30\t50\t80\n",
    "Very Unsatisfied\t20\t50\t70\n",
    "Total\t240\t360\t600\n",
    "\n",
    "Objective:                                                                                                        \n",
    "To use the Chi-Square test for independence to determine if there's a significant association between the type of smart home device purchased (Smart Thermostats vs. Smart Lights) and the customer satisfaction level.Assignment Tasks:\n",
    "1. State the Hypotheses:\n",
    "2. Compute the Chi-Square Statistic:\n",
    "3. Determine the Critical Value:\n",
    "Using the significance level (alpha) of 0.05 and the degrees of freedom (which is the number of categories minus 1)\n",
    "4. Make a Decision:\n",
    "Compare the Chi-Square statistic with the critical value to decide whether to reject the null hypothesis.\n",
    "Submission Guidelines:\n",
    "•\tProvide a detailed report of your analysis, including each step outlined in the assignment tasks in a python file.\n",
    "•\tInclude all calculations, the Chi-Square statistic, the critical value, and your conclusion.\n"
   ]
  },
  {
   "cell_type": "code",
   "execution_count": 17,
   "id": "386e6cee-928d-4f67-b7eb-859a1107a2a1",
   "metadata": {},
   "outputs": [],
   "source": [
    "import numpy as np\n",
    "import scipy.stats as stats"
   ]
  },
  {
   "cell_type": "code",
   "execution_count": 18,
   "id": "5ece2e32-a92d-47bc-a005-aca6d8d5813f",
   "metadata": {},
   "outputs": [],
   "source": [
    "##### Step 1: State the Hypotheses\n",
    "# Null Hypothesis (H₀): There is no association between device type and customer satisfaction level.\n",
    "# Alternative Hypothesis (H₁): There is a significant association between device type and customer satisfaction."
   ]
  },
  {
   "cell_type": "code",
   "execution_count": 19,
   "id": "f761f07c-0db0-4957-849f-1f93b0a53f1a",
   "metadata": {},
   "outputs": [],
   "source": [
    "# Step 2: Compute the Chi-Square Statistic\n",
    "\n",
    "# Given data: Observed frequencies\n",
    "observed = np.array([[50, 70],        # Very Satisfied\n",
    "                     [80, 100],       # Satisfied\n",
    "                     [60, 90],        # Neutral\n",
    "                     [30, 50],        # Unsatisfied\n",
    "                     [20, 50]])       # Very Unsatisfied"
   ]
  },
  {
   "cell_type": "code",
   "execution_count": 84,
   "id": "b6b3b2ed-78eb-4063-b96a-099d4a0a9367",
   "metadata": {},
   "outputs": [
    {
     "data": {
      "text/plain": [
       "array([[ 50,  70],\n",
       "       [ 80, 100],\n",
       "       [ 60,  90],\n",
       "       [ 30,  50],\n",
       "       [ 20,  50]])"
      ]
     },
     "execution_count": 84,
     "metadata": {},
     "output_type": "execute_result"
    }
   ],
   "source": [
    "observed"
   ]
  },
  {
   "cell_type": "code",
   "execution_count": 20,
   "id": "43f9c1d9-0a8d-4a6c-aff3-e649799bb040",
   "metadata": {},
   "outputs": [],
   "source": [
    "#Now dooing Row totals and column totals\n",
    "row_totals = np.sum(observed, axis=1)\n",
    "col_totals = np.sum(observed, axis=0)\n",
    "grand_total = np.sum(observed)"
   ]
  },
  {
   "cell_type": "code",
   "execution_count": 21,
   "id": "23d136dd-e79e-40cb-a622-08efb0f3c43b",
   "metadata": {},
   "outputs": [
    {
     "data": {
      "text/plain": [
       "array([120, 180, 150,  80,  70])"
      ]
     },
     "execution_count": 21,
     "metadata": {},
     "output_type": "execute_result"
    }
   ],
   "source": [
    "row_totals"
   ]
  },
  {
   "cell_type": "code",
   "execution_count": 22,
   "id": "520226d9-c888-42d7-abab-332aa5981b6b",
   "metadata": {},
   "outputs": [
    {
     "data": {
      "text/plain": [
       "array([240, 360])"
      ]
     },
     "execution_count": 22,
     "metadata": {},
     "output_type": "execute_result"
    }
   ],
   "source": [
    "col_totals"
   ]
  },
  {
   "cell_type": "code",
   "execution_count": 23,
   "id": "4fab09e0-d3f7-4765-8224-4ab68f7fa7aa",
   "metadata": {},
   "outputs": [
    {
     "data": {
      "text/plain": [
       "600"
      ]
     },
     "execution_count": 23,
     "metadata": {},
     "output_type": "execute_result"
    }
   ],
   "source": [
    "grand_total"
   ]
  },
  {
   "cell_type": "code",
   "execution_count": 24,
   "id": "72a6e9ce-6c44-4453-a7d5-23b6a7cde8ab",
   "metadata": {},
   "outputs": [],
   "source": [
    "# Now we have to Calculate expected frequencies\n",
    "expected = np.outer(row_totals, col_totals) / grand_total"
   ]
  },
  {
   "cell_type": "code",
   "execution_count": 25,
   "id": "bb7e9cca-8f41-4438-a0d1-286305a7a7d5",
   "metadata": {},
   "outputs": [
    {
     "data": {
      "text/plain": [
       "array([[ 48.,  72.],\n",
       "       [ 72., 108.],\n",
       "       [ 60.,  90.],\n",
       "       [ 32.,  48.],\n",
       "       [ 28.,  42.]])"
      ]
     },
     "execution_count": 25,
     "metadata": {},
     "output_type": "execute_result"
    }
   ],
   "source": [
    "expected"
   ]
  },
  {
   "cell_type": "code",
   "execution_count": 26,
   "id": "872ccd3b-15de-4863-9b55-8130d00119a0",
   "metadata": {},
   "outputs": [],
   "source": [
    "# Here we have to Calculate chi-square statistic\n",
    "chi_square_stat = np.sum((observed - expected)**2 / expected)"
   ]
  },
  {
   "cell_type": "code",
   "execution_count": 27,
   "id": "64188fcf-0b9c-4973-b4a4-eef619477580",
   "metadata": {},
   "outputs": [
    {
     "data": {
      "text/plain": [
       "5.638227513227513"
      ]
     },
     "execution_count": 27,
     "metadata": {},
     "output_type": "execute_result"
    }
   ],
   "source": [
    "chi_square_stat"
   ]
  },
  {
   "cell_type": "code",
   "execution_count": 28,
   "id": "c6319227-7659-4c8b-aa1d-93c10460433c",
   "metadata": {},
   "outputs": [],
   "source": [
    "####Step 3: Determine the Critical Value\n",
    "# Degrees of freedom (df) = (number of rows - 1) * (number of columns - 1)\n",
    "df = (observed.shape[0] - 1) * (observed.shape[1] - 1)"
   ]
  },
  {
   "cell_type": "code",
   "execution_count": 29,
   "id": "87976713-696c-487f-850d-51681b8a199c",
   "metadata": {},
   "outputs": [
    {
     "data": {
      "text/plain": [
       "4"
      ]
     },
     "execution_count": 29,
     "metadata": {},
     "output_type": "execute_result"
    }
   ],
   "source": [
    "df"
   ]
  },
  {
   "cell_type": "code",
   "execution_count": 30,
   "id": "e90faf74-6d01-446b-b3b3-45d5f89c78b4",
   "metadata": {},
   "outputs": [],
   "source": [
    "# Significance level (alpha) = 0.05\n",
    "alpha = 0.05\n",
    "critical_value = stats.chi2.ppf(1 - alpha, df)"
   ]
  },
  {
   "cell_type": "code",
   "execution_count": 31,
   "id": "c0239501-7994-4730-b5b1-f0f0089b52bd",
   "metadata": {},
   "outputs": [
    {
     "data": {
      "text/plain": [
       "9.487729036781154"
      ]
     },
     "execution_count": 31,
     "metadata": {},
     "output_type": "execute_result"
    }
   ],
   "source": [
    "critical_value"
   ]
  },
  {
   "cell_type": "code",
   "execution_count": 32,
   "id": "80e0efbb-901f-4a91-86fa-b0edf5fed621",
   "metadata": {},
   "outputs": [],
   "source": [
    "# p-value for the chi-square statistic\n",
    "p_value = 1 - stats.chi2.cdf(chi_square_stat, df)"
   ]
  },
  {
   "cell_type": "code",
   "execution_count": 33,
   "id": "26cce803-dc52-470b-9c75-ae1afe714f06",
   "metadata": {},
   "outputs": [
    {
     "data": {
      "text/plain": [
       "0.22784371130697179"
      ]
     },
     "execution_count": 33,
     "metadata": {},
     "output_type": "execute_result"
    }
   ],
   "source": [
    "p_value"
   ]
  },
  {
   "cell_type": "code",
   "execution_count": 34,
   "id": "63ef8d34-6788-4dbc-b05d-fc08fb1beeba",
   "metadata": {},
   "outputs": [],
   "source": [
    "##### Step 4: Make a Decision\n",
    "if chi_square_stat > critical_value:\n",
    "    decision = \"Reject the null hypothesis\"\n",
    "else:\n",
    "    decision = \"Fail to reject the null hypothesis\""
   ]
  },
  {
   "cell_type": "code",
   "execution_count": 86,
   "id": "819f5f33-bc55-40fa-8789-fd242a7a908d",
   "metadata": {},
   "outputs": [
    {
     "data": {
      "text/plain": [
       "'Fail to reject the null hypothesis'"
      ]
     },
     "execution_count": 86,
     "metadata": {},
     "output_type": "execute_result"
    }
   ],
   "source": [
    "decision"
   ]
  },
  {
   "cell_type": "code",
   "execution_count": 35,
   "id": "fe8b2a2a-82a4-4728-bcb5-f6b8d1a16dcc",
   "metadata": {},
   "outputs": [
    {
     "name": "stdout",
     "output_type": "stream",
     "text": [
      "Chi-Square Statistic: 5.64\n",
      "Critical Value: 9.49\n",
      "p-value: 0.23\n",
      "Decision: Fail to reject the null hypothesis\n"
     ]
    }
   ],
   "source": [
    "# Display the results\n",
    "print(f\"Chi-Square Statistic: {chi_square_stat:.2f}\")\n",
    "print(f\"Critical Value: {critical_value:.2f}\")\n",
    "print(f\"p-value: {p_value:.2f}\")\n",
    "print(f\"Decision: {decision}\")"
   ]
  },
  {
   "cell_type": "markdown",
   "id": "e732329f-6640-4aff-ab02-e414548c3e45",
   "metadata": {},
   "source": [
    "#### Steps Explained:"
   ]
  },
  {
   "cell_type": "markdown",
   "id": "f884a798-afb5-405c-870e-4b8cfbf0e6e0",
   "metadata": {},
   "source": [
    "##### State the Hypotheses:"
   ]
  },
  {
   "cell_type": "code",
   "execution_count": 38,
   "id": "7a7d1f9a-a439-4003-9a1d-4489e4a50187",
   "metadata": {},
   "outputs": [],
   "source": [
    "# Null Hypothesis (H₀): No association between device type and customer satisfaction.\n",
    "# Alternative Hypothesis (H₁): There is an association between device type and customer satisfaction."
   ]
  },
  {
   "cell_type": "markdown",
   "id": "0ea2cd32-6e02-48e5-8224-e138ba94b5c9",
   "metadata": {},
   "source": [
    "##### Compute the Chi-Square Statistic:"
   ]
  },
  {
   "cell_type": "code",
   "execution_count": 40,
   "id": "fd4b7a85-5a40-48ac-bd6b-7c455281c1f0",
   "metadata": {},
   "outputs": [],
   "source": [
    "# We input the observed data in a contingency table and calculate the expected frequencies based on row and column totals."
   ]
  },
  {
   "cell_type": "markdown",
   "id": "e5c52714-03ae-4b1f-b308-7007686bf7c1",
   "metadata": {},
   "source": [
    "##### Determine the Critical Value:"
   ]
  },
  {
   "cell_type": "code",
   "execution_count": 42,
   "id": "3af09429-c520-4cf5-b5e0-1e38f5157f78",
   "metadata": {},
   "outputs": [],
   "source": [
    "# Using the degrees of freedom and significance level (α = 0.05), the critical value is determined from a Chi-Square distribution table."
   ]
  },
  {
   "cell_type": "markdown",
   "id": "e6ad9a99-e13f-4da0-a4c7-a4c579a1e8ef",
   "metadata": {},
   "source": [
    "##### Conclusion"
   ]
  },
  {
   "cell_type": "code",
   "execution_count": 44,
   "id": "743a1645-10c9-40e6-9ad9-3b5bb30d316b",
   "metadata": {},
   "outputs": [],
   "source": [
    "# Final Conclusion: The observed data does not provide statistical evidence that the restaurant owners' claim about increased costs is valid."
   ]
  },
  {
   "cell_type": "markdown",
   "id": "9e2cb98a-6d12-442e-92ad-078788b7620b",
   "metadata": {},
   "source": [
    "#### Report summary"
   ]
  },
  {
   "cell_type": "code",
   "execution_count": 95,
   "id": "98e3e987-6f59-4396-bdd9-4dae23cc0824",
   "metadata": {},
   "outputs": [],
   "source": [
    "#Since our calculated 𝜒2 value (5.6389) is less than the critical value (9.488), we fail to reject 𝐻0. \n",
    "#This means that there is not enough statistical evidence to conclude that customer satisfaction is dependent on the device type.\n",
    "#In simpler terms, the type of smart home device (Smart Thermostat vs. Smart Light) does not significantly affect customer satisfaction.\n"
   ]
  },
  {
   "cell_type": "code",
   "execution_count": null,
   "id": "66a7bcd5-5db6-4c18-8e95-f3ad8a3e61a5",
   "metadata": {},
   "outputs": [],
   "source": [
    "    "
   ]
  }
 ],
 "metadata": {
  "kernelspec": {
   "display_name": "Python 3 (ipykernel)",
   "language": "python",
   "name": "python3"
  },
  "language_info": {
   "codemirror_mode": {
    "name": "ipython",
    "version": 3
   },
   "file_extension": ".py",
   "mimetype": "text/x-python",
   "name": "python",
   "nbconvert_exporter": "python",
   "pygments_lexer": "ipython3",
   "version": "3.11.7"
  }
 },
 "nbformat": 4,
 "nbformat_minor": 5
}
